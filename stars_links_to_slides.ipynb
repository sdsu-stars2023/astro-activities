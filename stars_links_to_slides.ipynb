{
 "cells": [
  {
   "cell_type": "markdown",
   "id": "a4b1532e",
   "metadata": {},
   "source": [
    "# SDSU Training Astronomy Research Scholars (STARS)\n",
    "\n",
    "\n",
    "\n",
    "### Prof. Kate Rubin <br> \n",
    "\n",
    "&copy; 2023 Kate Rubin"
   ]
  },
  {
   "cell_type": "markdown",
   "id": "b2e1cef8",
   "metadata": {},
   "source": [
    "## [Light, Matter & Spectra](https://drive.google.com/file/d/1HAp-fKIN3FQwZyYK1384zj_s9Q4G7VhH/view?usp=drive_link)"
   ]
  },
  {
   "cell_type": "markdown",
   "id": "87ab1408",
   "metadata": {},
   "source": [
    "## [Measuring Mass](https://drive.google.com/file/d/1eZ1MOeriGyYelvGcYl9_pDgQQ7mGfULZ/view?usp=drive_link)"
   ]
  },
  {
   "cell_type": "markdown",
   "id": "b718351c",
   "metadata": {},
   "source": [
    "## [Thermal Radiation and Telescopes](https://drive.google.com/file/d/1GKYJtSnxv0VZBGgNNRXkvtwCVbO53EDw/view?usp=drive_link)"
   ]
  },
  {
   "cell_type": "markdown",
   "id": "c947fe06",
   "metadata": {},
   "source": [
    "## [Doppler Effect and Redshift](https://drive.google.com/file/d/1qrOfwwD6I8zuDr8pl_WR-ERHmyiiL1Bs/view?usp=drive_link)"
   ]
  },
  {
   "cell_type": "markdown",
   "id": "fa0c49f6",
   "metadata": {},
   "source": [
    "## [Stars and the H-R Diagram](https://drive.google.com/file/d/1OLvGEcOdT7Yp8PKslDn5TxmU4MI9o3VA/view?usp=drive_link)"
   ]
  },
  {
   "cell_type": "markdown",
   "id": "aef11775",
   "metadata": {},
   "source": [
    "## [Stellar Life Cycles in Galaxies](https://drive.google.com/file/d/1OQpfptzoFOLUbTyQC83EX0AnlCCrQXBk/view?usp=drive_link)"
   ]
  },
  {
   "cell_type": "code",
   "execution_count": null,
   "id": "8729c4b3",
   "metadata": {},
   "outputs": [],
   "source": []
  }
 ],
 "metadata": {
  "kernelspec": {
   "display_name": "Python 3 (ipykernel)",
   "language": "python",
   "name": "python3"
  },
  "language_info": {
   "codemirror_mode": {
    "name": "ipython",
    "version": 3
   },
   "file_extension": ".py",
   "mimetype": "text/x-python",
   "name": "python",
   "nbconvert_exporter": "python",
   "pygments_lexer": "ipython3",
   "version": "3.9.12"
  }
 },
 "nbformat": 4,
 "nbformat_minor": 5
}
